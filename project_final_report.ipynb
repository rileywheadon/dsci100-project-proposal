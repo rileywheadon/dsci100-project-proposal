{
 "cells": [
  {
   "cell_type": "markdown",
   "id": "82b862f6-cb6a-481d-bcd3-77e049d7c417",
   "metadata": {},
   "source": [
    "# Predicting the Quality of Vinho Verde Wine Based on Physical Properties\n",
    "## DSCI 100 Project Final Report\n",
    "Date: November/December 2022\n",
    "\n",
    "Group: 157"
   ]
  },
  {
   "cell_type": "markdown",
   "id": "eb715311-2bd6-47b3-8248-86b3f9ed6c98",
   "metadata": {},
   "source": [
    "## Proposal Overview\n",
    "- Introduction\n",
    "- Methods & Results\n",
    "- Discussion\n",
    "- References"
   ]
  },
  {
   "cell_type": "markdown",
   "id": "4265ad04-e561-469d-9ea1-67cf699c8a59",
   "metadata": {},
   "source": [
    "***\n",
    "### *For our purposes only - remove this cell before handing in project!!*\n",
    "\n",
    "To do\n",
    "\n",
    "[X] Introduction\n",
    "\n",
    "[] Methods & Results\n",
    "\n",
    "[] Discussion\n",
    "\n",
    "[] References\n",
    "\n",
    "[] Check for typos/proofread\n",
    "\n",
    "***"
   ]
  },
  {
   "cell_type": "markdown",
   "id": "6663fb06-74b0-4960-aaf7-06125ac27a8f",
   "metadata": {},
   "source": [
    "## Introduction\n",
    "\n",
    "There are many factors that give white wine its distinctive taste. Sweetness is determined by **residual sugars** left over from fermentation, and is measured in grams per decimeter cubed. The sugars that were consumed during fermentation determine the **alcohol content** of the wine – grapes with more sugar create more alcoholic wines. The tart or sour taste of the wine comes from its **acidity**. All wine has a **pH** between 3 and 4, but small variations in acidity can create a big difference in taste. Other properties such as **citric acid**, **sulfur dioxide**, **chlorides**, and **sulfates** also affect the quality of the wine.\n",
    "\n",
    "In our project, we ask, what physical properties lead to a higher quality white wine? To solve this problem, we will be using data from approximately 5,000 variants of the Portuguese wine “Vinho Verde” collected by Cortez et al. (2009). \n",
    "\n",
    "Though all variables provided affect the quality of a wine, we chose a subset of the variables based on which appeared to have an obvious relationship with quality (summarized in the following section) in addition to what was of interest to us. The variables we will be using in our analysis of white wine quality are:\n",
    "- Fixed acidity (g/dm^3)\n",
    "- Citric acid (g/dm^3)\n",
    "- Residual sugar (g/dm^3)\n",
    "- pH (logarithmic units, from 1-12)\n",
    "- Acohol (volume percent, from 0 to 100)\n",
    "- Quality (a score, from 3-9, with 9 being the best quality)"
   ]
  },
  {
   "cell_type": "code",
   "execution_count": null,
   "id": "19a5678d-8d80-4097-b71c-cbdfb9ff9b68",
   "metadata": {},
   "outputs": [],
   "source": []
  }
 ],
 "metadata": {
  "kernelspec": {
   "display_name": "R",
   "language": "R",
   "name": "ir"
  },
  "language_info": {
   "codemirror_mode": "r",
   "file_extension": ".r",
   "mimetype": "text/x-r-source",
   "name": "R",
   "pygments_lexer": "r",
   "version": "4.1.3"
  }
 },
 "nbformat": 4,
 "nbformat_minor": 5
}
