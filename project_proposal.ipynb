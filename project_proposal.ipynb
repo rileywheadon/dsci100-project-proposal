{
 "cells": [
  {
   "cell_type": "markdown",
   "id": "b58c13bd-689d-4b86-b069-f1b5a63df925",
   "metadata": {},
   "source": [
    "**DSCI 100 Project**"
   ]
  },
  {
   "cell_type": "markdown",
   "id": "ab1f035a-3a82-426f-a59b-02f31db33469",
   "metadata": {},
   "source": [
    "Date: October 2022\n",
    "\n",
    "Dataset: winequality-white.csv\n"
   ]
  },
  {
   "cell_type": "code",
   "execution_count": null,
   "id": "ecd7b482-0956-4dc0-a632-3725aebc2b6b",
   "metadata": {},
   "outputs": [],
   "source": []
  }
 ],
 "metadata": {
  "kernelspec": {
   "display_name": "R",
   "language": "R",
   "name": "ir"
  },
  "language_info": {
   "codemirror_mode": "r",
   "file_extension": ".r",
   "mimetype": "text/x-r-source",
   "name": "R",
   "pygments_lexer": "r",
   "version": "4.1.3"
  }
 },
 "nbformat": 4,
 "nbformat_minor": 5
}
